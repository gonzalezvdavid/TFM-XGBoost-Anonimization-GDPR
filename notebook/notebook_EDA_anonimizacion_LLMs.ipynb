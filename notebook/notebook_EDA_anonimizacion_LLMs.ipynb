{
 "cells": [
  {
   "cell_type": "code",
   "execution_count": null,
   "id": "7a78bf6b",
   "metadata": {},
   "outputs": [],
   "source": [
    "# Uso de EDA y Anonimización Modular\n",
    "# ===========================================\n",
    "# Este notebook muestra el código modular para el EDA del proyecto de anonimización de datos bancarios\n",
    "\n",
    "# Importar las funciones del módulo principal\n",
    "# -----------------------------------------\n",
    "# Cargando el código módular como 'eda_anonimizacion_modular.py'\n",
    "from eda_anonimizacion_modular import *"
   ]
  },
  {
   "cell_type": "code",
   "execution_count": null,
   "id": "d5ae5b2f",
   "metadata": {},
   "outputs": [],
   "source": [
    "# Ejecutar el proceso completo\n",
    "# --------------------------\n",
    "print(\"Ejecutando proceso completo de análisis y anonimización...\\n\")"
   ]
  },
  {
   "cell_type": "code",
   "execution_count": null,
   "id": "6f8df741",
   "metadata": {},
   "outputs": [],
   "source": [
    "# Defino rutas de archivosa necesario)\n",
    "ruta_entrada = \"dataset/anonimizacion_datos.csv\"\n",
    "ruta_salida = \"dataset/anonimizacion_datos_anonimizado.csv\""
   ]
  },
  {
   "cell_type": "code",
   "execution_count": null,
   "id": "5f37f8e0",
   "metadata": {},
   "outputs": [],
   "source": [
    "# Ejecutando las funciones de forma módular\n",
    "# ------------------------------------------------------------\n",
    "print(\"\\n\\nEjecutando funciones individuales para un mayor control...\\n\")\n",
    "\n",
    "# 1. Cargar y analizar datos\n",
    "df = cargar_datos(ruta_entrada)\n",
    "mostrar_info_basica(df)"
   ]
  },
  {
   "cell_type": "code",
   "execution_count": null,
   "id": "21746c8d",
   "metadata": {},
   "outputs": [],
   "source": [
    "# 2. Análisis específico de fraude\n",
    "print(\"\\nAnalizando sólo los patrones de fraude:\")\n",
    "analizar_transacciones_fraude(df)\n",
    "analizar_fraude_por_tipo(df)"
   ]
  },
  {
   "cell_type": "code",
   "execution_count": null,
   "id": "39bc2d19",
   "metadata": {},
   "outputs": [],
   "source": [
    "# 3. Ejecutar solo la anonimización\n",
    "print(\"\\nEjecutando solo la anonimización:\")\n",
    "df_anon, fake = iniciar_anonimizacion(df)\n",
    "df_anon = anonimizar_ids(df_anon)\n",
    "df_anon = anonimizar_valores_numericos(df_anon)"
   ]
  },
  {
   "cell_type": "code",
   "execution_count": null,
   "id": "1cbfb378",
   "metadata": {},
   "outputs": [],
   "source": [
    "# 4. Verificar solo ciertos aspectos\n",
    "verificar_ids_anonimizados(df, df_anon, ['nameOrig', 'nameDest'])"
   ]
  },
  {
   "cell_type": "code",
   "execution_count": null,
   "id": "8a8c773f",
   "metadata": {},
   "outputs": [],
   "source": [
    "# Ejecutar todo el proceso\n",
    "df_original, df_anonimizado = ejecutar_analisis_anonimizacion(ruta_entrada, ruta_salida)"
   ]
  }
 ],
 "metadata": {
  "kernelspec": {
   "display_name": "venv",
   "language": "python",
   "name": "python3"
  },
  "language_info": {
   "codemirror_mode": {
    "name": "ipython",
    "version": 3
   },
   "file_extension": ".py",
   "mimetype": "text/x-python",
   "name": "python",
   "nbconvert_exporter": "python",
   "pygments_lexer": "ipython3",
   "version": "3.13.2"
  }
 },
 "nbformat": 4,
 "nbformat_minor": 5
}
